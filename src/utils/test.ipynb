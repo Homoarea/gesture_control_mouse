{
 "cells": [
  {
   "cell_type": "code",
   "execution_count": null,
   "metadata": {},
   "outputs": [],
   "source": [
    "import cv2\n",
    "\n",
    "print(list(filter(lambda x:cv2.VideoCapture(x).isOpened(),range(10))))"
   ]
  },
  {
   "cell_type": "code",
   "execution_count": 1,
   "metadata": {},
   "outputs": [
    {
     "name": "stdout",
     "output_type": "stream",
     "text": [
      "Imgsz.HALF->320\n"
     ]
    }
   ],
   "source": [
    "import config\n",
    "print(f\"{config.Imgsz.HALF}->{config.Imgsz.HALF.value}\")"
   ]
  },
  {
   "cell_type": "code",
   "execution_count": 7,
   "metadata": {},
   "outputs": [
    {
     "name": "stdout",
     "output_type": "stream",
     "text": [
      "['grabbing', 'grip', 'holy', 'point', 'call', 'three3', 'timeout', 'xsign', 'hand_heart', 'hand_heart2', 'little_finger', 'middle_finger', 'take_picture', 'dislike', 'fist', 'four', 'like', 'mute', 'ok', 'one', 'palm', 'peace', 'peace_inverted', 'rock', 'stop', 'stop_inverted', 'three', 'three2', 'two_up', 'two_up_inverted', 'three_gun', 'thumb_index', 'thumb_index2', 'no_gesture']\n"
     ]
    }
   ],
   "source": [
    "import config\n",
    "print(list(i.value for i in config.GESTURE_NAME))"
   ]
  },
  {
   "cell_type": "code",
   "execution_count": null,
   "metadata": {},
   "outputs": [],
   "source": [
    "import pyautogui\n",
    "pyautogui.PAUSE=0.1\n",
    "x,y=pyautogui.size()"
   ]
  }
 ],
 "metadata": {
  "kernelspec": {
   "display_name": "yolo11",
   "language": "python",
   "name": "python3"
  },
  "language_info": {
   "codemirror_mode": {
    "name": "ipython",
    "version": 3
   },
   "file_extension": ".py",
   "mimetype": "text/x-python",
   "name": "python",
   "nbconvert_exporter": "python",
   "pygments_lexer": "ipython3",
   "version": "3.11.11"
  }
 },
 "nbformat": 4,
 "nbformat_minor": 2
}
